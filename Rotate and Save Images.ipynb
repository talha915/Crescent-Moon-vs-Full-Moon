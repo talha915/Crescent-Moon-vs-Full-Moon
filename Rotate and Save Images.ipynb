{
 "cells": [
  {
   "cell_type": "code",
   "execution_count": 1,
   "metadata": {},
   "outputs": [],
   "source": [
    "import os\n",
    "import cv2"
   ]
  },
  {
   "cell_type": "code",
   "execution_count": 2,
   "metadata": {},
   "outputs": [],
   "source": [
    "#Training dataset directories\n",
    "crescent_train = os.listdir('Crescent/train')\n",
    "full_train = os.listdir('Full/train')"
   ]
  },
  {
   "cell_type": "code",
   "execution_count": 3,
   "metadata": {},
   "outputs": [],
   "source": [
    "#Training dataset paths\n",
    "path1_train = 'Crescent/train/'\n",
    "path2_train = 'Full/train/'"
   ]
  },
  {
   "cell_type": "code",
   "execution_count": 4,
   "metadata": {},
   "outputs": [],
   "source": [
    "#Rotating Images \n",
    "for i in crescent_train:\n",
    "    image = cv2.imread(path1_train+i)\n",
    "    rotated_image = cv2.transpose(image)\n",
    "    cv2.imwrite(os.path.join(path1_train+str(i)+'rotated.jpg'), rotated_image)"
   ]
  },
  {
   "cell_type": "code",
   "execution_count": 5,
   "metadata": {},
   "outputs": [],
   "source": [
    "#Rotating Images \n",
    "for i in full_train:\n",
    "    image = cv2.imread(path2_train+i)\n",
    "    rotated_image = cv2.transpose(image)\n",
    "    cv2.imwrite(os.path.join(path2_train+str(i)+'rotated.jpg'), rotated_image)"
   ]
  },
  {
   "cell_type": "code",
   "execution_count": null,
   "metadata": {},
   "outputs": [],
   "source": []
  }
 ],
 "metadata": {
  "kernelspec": {
   "display_name": "Python 3",
   "language": "python",
   "name": "python3"
  },
  "language_info": {
   "codemirror_mode": {
    "name": "ipython",
    "version": 3
   },
   "file_extension": ".py",
   "mimetype": "text/x-python",
   "name": "python",
   "nbconvert_exporter": "python",
   "pygments_lexer": "ipython3",
   "version": "3.7.3"
  }
 },
 "nbformat": 4,
 "nbformat_minor": 2
}
